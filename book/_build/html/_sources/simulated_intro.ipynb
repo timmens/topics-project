{
 "cells": [
  {
   "cell_type": "markdown",
   "metadata": {},
   "source": [
    "# Data Description\n",
    "\n",
    "In the following I will present my model for the simulated data set. Before I present the final model I will talk about how I reached the decision and compared the model to other potential candidates.\n",
    "\n",
    "Note first that I changed the file format from an ``RData`` file to a [``parquet``](https://parquet.apache.org/) file, as this can be loaded into most programming languages."
   ]
  },
  {
   "cell_type": "code",
   "execution_count": 1,
   "metadata": {},
   "outputs": [],
   "source": [
    "import os\n",
    "from pathlib import Path\n",
    "import pandas as pd\n",
    "ROOT = Path(os.getcwd()).parent"
   ]
  },
  {
   "cell_type": "code",
   "execution_count": 2,
   "metadata": {},
   "outputs": [
    {
     "data": {
      "text/html": [
       "<div>\n",
       "<style scoped>\n",
       "    .dataframe tbody tr th:only-of-type {\n",
       "        vertical-align: middle;\n",
       "    }\n",
       "\n",
       "    .dataframe tbody tr th {\n",
       "        vertical-align: top;\n",
       "    }\n",
       "\n",
       "    .dataframe thead th {\n",
       "        text-align: right;\n",
       "    }\n",
       "</style>\n",
       "<table border=\"1\" class=\"dataframe\">\n",
       "  <thead>\n",
       "    <tr style=\"text-align: right;\">\n",
       "      <th></th>\n",
       "      <th>Y</th>\n",
       "      <th>X1</th>\n",
       "      <th>X2</th>\n",
       "      <th>X3</th>\n",
       "      <th>X4</th>\n",
       "      <th>X5</th>\n",
       "      <th>X6</th>\n",
       "      <th>X7</th>\n",
       "      <th>X8</th>\n",
       "      <th>X9</th>\n",
       "    </tr>\n",
       "  </thead>\n",
       "  <tbody>\n",
       "    <tr>\n",
       "      <th>0</th>\n",
       "      <td>2.125298</td>\n",
       "      <td>0.711338</td>\n",
       "      <td>0.683167</td>\n",
       "      <td>0.493706</td>\n",
       "      <td>0.317948</td>\n",
       "      <td>0.374013</td>\n",
       "      <td>0.600761</td>\n",
       "      <td>0.630743</td>\n",
       "      <td>0.726537</td>\n",
       "      <td>0.632634</td>\n",
       "    </tr>\n",
       "    <tr>\n",
       "      <th>1</th>\n",
       "      <td>-1.102707</td>\n",
       "      <td>0.666355</td>\n",
       "      <td>0.422247</td>\n",
       "      <td>0.366055</td>\n",
       "      <td>0.390193</td>\n",
       "      <td>0.499254</td>\n",
       "      <td>0.602870</td>\n",
       "      <td>0.379105</td>\n",
       "      <td>0.547651</td>\n",
       "      <td>0.507543</td>\n",
       "    </tr>\n",
       "    <tr>\n",
       "      <th>2</th>\n",
       "      <td>-2.847834</td>\n",
       "      <td>0.065469</td>\n",
       "      <td>0.307784</td>\n",
       "      <td>0.225924</td>\n",
       "      <td>0.233217</td>\n",
       "      <td>0.528559</td>\n",
       "      <td>0.468785</td>\n",
       "      <td>0.787321</td>\n",
       "      <td>0.831501</td>\n",
       "      <td>0.957693</td>\n",
       "    </tr>\n",
       "    <tr>\n",
       "      <th>3</th>\n",
       "      <td>-0.386088</td>\n",
       "      <td>0.715237</td>\n",
       "      <td>0.487894</td>\n",
       "      <td>0.716503</td>\n",
       "      <td>0.595477</td>\n",
       "      <td>0.619713</td>\n",
       "      <td>0.761047</td>\n",
       "      <td>0.879549</td>\n",
       "      <td>0.925856</td>\n",
       "      <td>0.979782</td>\n",
       "    </tr>\n",
       "    <tr>\n",
       "      <th>4</th>\n",
       "      <td>2.518977</td>\n",
       "      <td>0.144925</td>\n",
       "      <td>0.368206</td>\n",
       "      <td>0.335244</td>\n",
       "      <td>0.426445</td>\n",
       "      <td>0.564264</td>\n",
       "      <td>0.478321</td>\n",
       "      <td>0.466601</td>\n",
       "      <td>0.426546</td>\n",
       "      <td>0.591990</td>\n",
       "    </tr>\n",
       "  </tbody>\n",
       "</table>\n",
       "</div>"
      ],
      "text/plain": [
       "          Y        X1        X2        X3        X4        X5        X6  \\\n",
       "0  2.125298  0.711338  0.683167  0.493706  0.317948  0.374013  0.600761   \n",
       "1 -1.102707  0.666355  0.422247  0.366055  0.390193  0.499254  0.602870   \n",
       "2 -2.847834  0.065469  0.307784  0.225924  0.233217  0.528559  0.468785   \n",
       "3 -0.386088  0.715237  0.487894  0.716503  0.595477  0.619713  0.761047   \n",
       "4  2.518977  0.144925  0.368206  0.335244  0.426445  0.564264  0.478321   \n",
       "\n",
       "         X7        X8        X9  \n",
       "0  0.630743  0.726537  0.632634  \n",
       "1  0.379105  0.547651  0.507543  \n",
       "2  0.787321  0.831501  0.957693  \n",
       "3  0.879549  0.925856  0.979782  \n",
       "4  0.466601  0.426546  0.591990  "
      ]
     },
     "execution_count": 2,
     "metadata": {},
     "output_type": "execute_result"
    }
   ],
   "source": [
    "df = pd.read_parquet(ROOT / \"data\" / \"simulated_data.parquet\")\n",
    "df.iloc[:5, :10]"
   ]
  },
  {
   "cell_type": "markdown",
   "metadata": {},
   "source": [
    "The data set consists of 100_000 observations of a single continuous outcome and 100 continuous features which have been transformed to a uniform distribution. Of the 100_000 observations 20_000 are designed for the testing step and are given a ``NaN`` in the outcome column. The remaining 80_000 *labelled* data points were (randomly) split further by me into 65_000 (81.25%) training points and 15_000 validation points. As is standard in the literature I will train all of my models on the training points and compare the performance on the validation points. The *best* model overall is trained on all 80_000 points and used to predict the outcomes on the test set.\n",
    "This procedure is implemented in the script [train_test_split.py](https://github.com/timmens/topics-project/blob/main/train_test_split.py).\n",
    "\n",
    "In the next section on \"reverse engineering\" I will present a few techniques I used to learn more about the data at hand. If you only care about the description of the models I considered then feel free to skip the next section."
   ]
  }
 ],
 "metadata": {
  "kernelspec": {
   "display_name": "Python 3",
   "language": "python",
   "name": "python3"
  },
  "language_info": {
   "codemirror_mode": {
    "name": "ipython",
    "version": 3
   },
   "file_extension": ".py",
   "mimetype": "text/x-python",
   "name": "python",
   "nbconvert_exporter": "python",
   "pygments_lexer": "ipython3",
   "version": "3.7.8"
  }
 },
 "nbformat": 4,
 "nbformat_minor": 4
}
