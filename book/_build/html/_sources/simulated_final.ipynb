{
 "cells": [
  {
   "cell_type": "markdown",
   "metadata": {},
   "source": [
    "# Final\n",
    "\n",
    "In this last section I will list my top four models and their respective performances on a validation set. However, only for my final model I will explain how the fitting procedure works in detail.\n",
    "\n",
    "In particular I consider a\n",
    "\n",
    "1. Linear model using a subset of features\n",
    "2. Deep neural network with dropout regularization\n",
    "3. Two-stage random forest with feature selection\n",
    "4. Gradient tree boosting (*the final model*)\n",
    "\n",
    "If you only care about the final model please jump directly to subsection 4, in which I explain how the model is fit on a theoretical basis as well as the (Python) implementation. Note also that in the very last subsection I include a table comparing the validation mean squared error for all of the presented models."
   ]
  },
  {
   "cell_type": "markdown",
   "metadata": {},
   "source": [
    "## Preliminaries"
   ]
  },
  {
   "cell_type": "code",
   "execution_count": 35,
   "metadata": {},
   "outputs": [],
   "source": [
    "import os\n",
    "from pathlib import Path\n",
    "\n",
    "import numpy as np\n",
    "import pandas as pd\n",
    "\n",
    "import matplotlib.pyplot as plt\n",
    "import seaborn as sns\n",
    "\n",
    "from tensorflow.keras import Sequential\n",
    "from tensorflow.keras.layers import Dense\n",
    "from tensorflow.keras.layers import Dropout\n",
    "from tensorflow.keras.wrappers.scikit_learn import KerasRegressor\n",
    "\n",
    "from sklearn.linear_model import LinearRegression\n",
    "from sklearn.preprocessing import PolynomialFeatures\n",
    "from sklearn.ensemble import RandomForestRegressor\n",
    "from sklearn.metrics import mean_squared_error\n",
    "\n",
    "from catboost import CatBoostRegressor\n",
    "\n",
    "ROOT = Path(os.getcwd()).parent"
   ]
  },
  {
   "cell_type": "code",
   "execution_count": 2,
   "metadata": {},
   "outputs": [],
   "source": [
    "df_train = pd.read_parquet(ROOT / \"data\" / \"train-simulated.parquet\")\n",
    "df_val = pd.read_parquet(ROOT / \"data\" / \"validate-simulated.parquet\")\n",
    "\n",
    "y_train = df_train[\"Y\"]\n",
    "X_train = df_train.drop(\"Y\", axis=1)\n",
    "\n",
    "y_val = df_val[\"Y\"]\n",
    "X_val = df_val.drop(\"Y\", axis=1)"
   ]
  },
  {
   "cell_type": "markdown",
   "metadata": {},
   "source": [
    "## 1. Linear Model Using a Subset of Features\n",
    "\n",
    "Here I fit a simple \"two-step\" 3rd degree polynomial regression model to benchmark the machine learning methods from below. The procedure has two steps as I only consider the features $\\{X_3, X_{12}, X_{38}\\}$. This set of features was selected in the previous section using the recursive feature elimination strategy. However, basically all other feature selection strategies considered in the previous section selected a similar set of features."
   ]
  },
  {
   "cell_type": "code",
   "execution_count": 3,
   "metadata": {},
   "outputs": [
    {
     "name": "stdout",
     "output_type": "stream",
     "text": [
      "(Linear Model) MSE: 5.348907824317463\n"
     ]
    }
   ],
   "source": [
    "relevant = [f\"X{k}\" for k in [3, 12, 38]]\n",
    "\n",
    "XX_train = X_train[relevant]\n",
    "XX_val = X_val[relevant]\n",
    "\n",
    "poly = PolynomialFeatures(degree=3, include_bias=False)\n",
    "XX_train = poly.fit_transform(XX_train)\n",
    "XX_val = poly.transform(XX_val)\n",
    "\n",
    "lm = LinearRegression(n_jobs=3)\n",
    "lm.fit(XX_train, y_train)\n",
    "\n",
    "prediction = lm.predict(XX_val)\n",
    "mse_lm = mean_squared_error(y_val, prediction)\n",
    "print(f\"(Linear Model) MSE: {mse_lm}\")"
   ]
  },
  {
   "cell_type": "markdown",
   "metadata": {},
   "source": [
    "## 2. Deep Neural Network with Dropout Regularization\n",
    "\n",
    "I fit a deep neural network using the popular [keras](https://keras.io/) library which provides an intuitive API for the powerful [tensorflow](https://www.tensorflow.org/) package. The neural network architecture is set using the ``build_regressor`` function. I choose an archtecture with 10 layers. For the first layer I choose 20 hidden nodes, 15 hidden nodes for the second layer and 10 hidden nodes for the third to tenth layer. Moreover I use the so called [ReLu](https://en.wikipedia.org/wiki/Rectifier_(neural_networks)) activation function, which has been proven to outperform the classic sigmoid activation function in several ways, see for example [Krizhevsky et al. 2012](https://papers.nips.cc/paper/4824-imagenet-classification-with-deep-convolutional-neural-networks.pdf). As overfitting is a big problem with deep networks I employ a popular technique called dropout regularization to mitigate this effect, see [Srivastava et al. 2014](https://jmlr.org/papers/volume15/srivastava14a/srivastava14a.pdf). Dropout leads to neurons in a layer being randomly deactivated for a single epoch during the backpropagation, which in turn leads to neighboring neurons not developing a relationship that is too strongly dependent, which in turn is said to mitigate overfitting.\n",
    "\n",
    "***Note.***\n",
    "\n",
    "I decide to use this specific architecture as I \"learned\" from the previous section that the main effects are sparse in the sense that only very few features are relevant. However, I also realized from playing around with some parameters and the validation error of the linear model that some effects must be highly non-linear. An architecture which reduces the nodes from the original 100 input dimensions to 50, then 25 and then 10 forces the network to select the relevant features. And by using the other additional 5 layers the network can find non-linear signals.\n",
    "\n",
    "***Remark.***\n",
    "\n",
    "Since the gradient boosted tree presented below performs so well I did not consider many different architectures. I do believe that the neural networks should be able to perform comparably well if a different architecture is chosen."
   ]
  },
  {
   "cell_type": "code",
   "execution_count": 4,
   "metadata": {},
   "outputs": [],
   "source": [
    "N_COL = X_train.shape[1]\n",
    "def build_regressor():\n",
    "    regressor = Sequential()\n",
    "    # first hidden layer\n",
    "    regressor.add(Dense(units=50, activation=\"relu\", input_dim=N_COL))\n",
    "    regressor.add(Dropout(0.2))\n",
    "    \n",
    "    # second hidden layer\n",
    "    regressor.add(Dense(units=25, activation=\"relu\"))\n",
    "    regressor.add(Dropout(0.2))\n",
    "    \n",
    "    # third to tenth hidden layer\n",
    "    for _ in range(5):\n",
    "        regressor.add(Dense(units=10, activation=\"relu\"))\n",
    "    \n",
    "    # output layer\n",
    "    regressor.add(Dense(units=1, activation=\"linear\"))\n",
    "    \n",
    "    # compile model\n",
    "    regressor.compile(optimizer=\"adam\", loss=\"mean_squared_error\")\n",
    "    return regressor"
   ]
  },
  {
   "cell_type": "code",
   "execution_count": 5,
   "metadata": {},
   "outputs": [
    {
     "name": "stdout",
     "output_type": "stream",
     "text": [
      "(Neural Network) MSE: 5.358263126586889\n"
     ]
    }
   ],
   "source": [
    "nnet = KerasRegressor(\n",
    "    build_fn=build_regressor, batch_size=128, epochs=200, verbose=0\n",
    ")\n",
    "nnet.fit(X_train, y_train)\n",
    "\n",
    "prediction = nnet.predict(X_val)\n",
    "mse_nnet = mean_squared_error(y_val, prediction)\n",
    "print(f\"(Neural Network) MSE: {mse_nnet}\")"
   ]
  },
  {
   "cell_type": "markdown",
   "metadata": {},
   "source": [
    "## 3. Two-stage Random Forest with Feature Selection\n",
    "\n",
    "In this two stage procedure I first fit a random forest on the full set of features. I then consider a feature importance measure, which can be automatically calculated from the random forest fit. Using this I select the 30 *most* important features and fit another random forest on this subset of features.\n",
    "\n",
    "***First Stage***"
   ]
  },
  {
   "cell_type": "code",
   "execution_count": 6,
   "metadata": {},
   "outputs": [
    {
     "name": "stdout",
     "output_type": "stream",
     "text": [
      "First stage MSE: 5.160787056903768\n"
     ]
    }
   ],
   "source": [
    "rf = RandomForestRegressor(\n",
    "    n_estimators=250, \n",
    "    max_features=25, \n",
    "    max_depth=15,\n",
    "    min_samples_leaf=100,\n",
    "    bootstrap=True,\n",
    "    n_jobs=3\n",
    ")\n",
    "rf.fit(X_train, y_train.values)\n",
    "\n",
    "std = np.std(\n",
    "    [tree.feature_importances_ for tree in rf.estimators_], \n",
    "    axis=0\n",
    ")\n",
    "indices = np.argsort(rf.feature_importances_)[::-1]\n",
    "relevant = [f\"X{i+1}\" for i in indices[:30]]\n",
    "\n",
    "prediction = rf.predict(X_val)\n",
    "mse_first_stage = mean_squared_error(y_val, prediction)\n",
    "print(f\"First stage MSE: {mse_first_stage}\")"
   ]
  },
  {
   "cell_type": "code",
   "execution_count": 32,
   "metadata": {},
   "outputs": [
    {
     "ename": "IndexError",
     "evalue": "index 37 is out of bounds for axis 0 with size 30",
     "output_type": "error",
     "traceback": [
      "\u001b[0;31m---------------------------------------------------------------------------\u001b[0m",
      "\u001b[0;31mIndexError\u001b[0m                                Traceback (most recent call last)",
      "\u001b[0;32m<ipython-input-32-72e3cf191fbf>\u001b[0m in \u001b[0;36m<module>\u001b[0;34m\u001b[0m\n\u001b[1;32m      3\u001b[0m \u001b[0mcut\u001b[0m \u001b[0;34m=\u001b[0m \u001b[0;36m40\u001b[0m\u001b[0;34m\u001b[0m\u001b[0;34m\u001b[0m\u001b[0m\n\u001b[1;32m      4\u001b[0m \u001b[0mx\u001b[0m \u001b[0;34m=\u001b[0m \u001b[0mrange\u001b[0m\u001b[0;34m(\u001b[0m\u001b[0mX_train\u001b[0m\u001b[0;34m.\u001b[0m\u001b[0mshape\u001b[0m\u001b[0;34m[\u001b[0m\u001b[0;36m1\u001b[0m\u001b[0;34m]\u001b[0m\u001b[0;34m)\u001b[0m\u001b[0;34m[\u001b[0m\u001b[0;34m:\u001b[0m\u001b[0mcut\u001b[0m\u001b[0;34m]\u001b[0m\u001b[0;34m\u001b[0m\u001b[0;34m\u001b[0m\u001b[0m\n\u001b[0;32m----> 5\u001b[0;31m \u001b[0my\u001b[0m \u001b[0;34m=\u001b[0m \u001b[0mrf\u001b[0m\u001b[0;34m.\u001b[0m\u001b[0mfeature_importances_\u001b[0m\u001b[0;34m[\u001b[0m\u001b[0mindices\u001b[0m\u001b[0;34m]\u001b[0m\u001b[0;34m[\u001b[0m\u001b[0;34m:\u001b[0m\u001b[0mcut\u001b[0m\u001b[0;34m]\u001b[0m\u001b[0;34m\u001b[0m\u001b[0;34m\u001b[0m\u001b[0m\n\u001b[0m\u001b[1;32m      6\u001b[0m \u001b[0mplt\u001b[0m\u001b[0;34m.\u001b[0m\u001b[0mfigure\u001b[0m\u001b[0;34m(\u001b[0m\u001b[0;34m)\u001b[0m\u001b[0;34m\u001b[0m\u001b[0;34m\u001b[0m\u001b[0m\n\u001b[1;32m      7\u001b[0m \u001b[0mplt\u001b[0m\u001b[0;34m.\u001b[0m\u001b[0mtitle\u001b[0m\u001b[0;34m(\u001b[0m\u001b[0;34mf\"Feature importances (displaying only the {cut} most important features)\"\u001b[0m\u001b[0;34m)\u001b[0m\u001b[0;34m\u001b[0m\u001b[0;34m\u001b[0m\u001b[0m\n",
      "\u001b[0;31mIndexError\u001b[0m: index 37 is out of bounds for axis 0 with size 30"
     ]
    }
   ],
   "source": [
    "# plotting code: can be safely ignored\n",
    "plt.rcParams.update({'font.size': 20, 'figure.figsize': (12, 6)})\n",
    "cut = 40\n",
    "x = range(X_train.shape[1])[:cut]\n",
    "y = rf.feature_importances_[indices][:cut]\n",
    "plt.figure()\n",
    "plt.title(f\"Feature importances (displaying only the {cut} most important features)\")\n",
    "plt.bar(x, y, color=\"r\", yerr=std[indices][:cut], align=\"center\")\n",
    "plt.xticks(x, indices[:cut])\n",
    "plt.xlim([-1, cut])\n",
    "plt.show()"
   ]
  },
  {
   "cell_type": "markdown",
   "metadata": {},
   "source": [
    "***Second Stage***"
   ]
  },
  {
   "cell_type": "code",
   "execution_count": 8,
   "metadata": {},
   "outputs": [
    {
     "name": "stdout",
     "output_type": "stream",
     "text": [
      "(Random Forest) MSE: 5.110626059966557\n"
     ]
    }
   ],
   "source": [
    "XX_train = X_train[relevant]\n",
    "XX_val = X_val[relevant]\n",
    "\n",
    "rf = RandomForestRegressor(\n",
    "    n_estimators=250, \n",
    "    max_features=15, \n",
    "    max_depth=15,\n",
    "    min_samples_leaf=100,\n",
    "    bootstrap=True,\n",
    "    n_jobs=3\n",
    ")\n",
    "rf.fit(XX_train, y_train.values)\n",
    "\n",
    "prediction = rf.predict(XX_val)\n",
    "mse_rf = mean_squared_error(y_val, prediction)\n",
    "print(f\"(Random Forest) MSE: {mse_rf}\")"
   ]
  },
  {
   "cell_type": "markdown",
   "metadata": {},
   "source": [
    "## 4. Gradient tree boosting (*the final model*)\n",
    "\n",
    "The final model I am using is a specific variant of a gradient boosted tree. In particular the version implemented in the [catboost](https://catboost.ai/) package, which differs slightly from common implementations. Next I will introduce the concept of gradient boosting with a particular focus on tree weak-learners. Afterwards I show how to fit a model using ``catboost``. Note that my final prediction submissions are not made with this specific model since here I only use my training sample. The final predictions are made with the script [final_prediction_simulated.py](https://github.com/timmens/topics-project/tree/main/codes/create_predictions.py).\n",
    "\n",
    "\n",
    "### Theory\n",
    "\n",
    "Write about the theory of Catboost HERERERE!!!\n",
    "\n",
    "\n",
    "### Implementation / Application"
   ]
  },
  {
   "cell_type": "code",
   "execution_count": 9,
   "metadata": {},
   "outputs": [
    {
     "name": "stdout",
     "output_type": "stream",
     "text": [
      "(Catboost) MSE: 5.04103841680727\n"
     ]
    }
   ],
   "source": [
    "gbt = CatBoostRegressor(\n",
    "    iterations=1500,\n",
    "    learning_rate=0.01, \n",
    "    depth=5,\n",
    "    loss_function=\"RMSE\",\n",
    "    random_state=1\n",
    ")\n",
    "gbt.fit(X_train, y_train, verbose=False)\n",
    "\n",
    "prediction = gbt.predict(X_val)\n",
    "mse_gbt = mean_squared_error(y_val, prediction)\n",
    "print(f\"(Catboost) MSE: {mse_gbt}\")"
   ]
  },
  {
   "cell_type": "markdown",
   "metadata": {},
   "source": [
    "## MSE Comparison"
   ]
  },
  {
   "cell_type": "code",
   "execution_count": 84,
   "metadata": {},
   "outputs": [
    {
     "data": {
      "image/png": "[encoded data removed]",
      "text/plain": [
       "<Figure size 1440x432 with 1 Axes>"
      ]
     },
     "metadata": {},
     "output_type": "display_data"
    }
   ],
   "source": [
    "models = [\"nnet\", \"lm\", \"rf\", \"catboost\"]\n",
    "mses = [mse_nnet, mse_lm, mse_rf, mse_gbt]\n",
    "data = pd.DataFrame(zip(models, mses), columns=[\"model\", \"mse\"])\n",
    "\n",
    "sns.set_style(\"whitegrid\")\n",
    "plt.ylim(5, 5.5)\n",
    "_ = sns.scatterplot(x=\"model\", y=\"mse\", data=data, hue=\"model\", s=500)"
   ]
  }
 ],
 "metadata": {
  "kernelspec": {
   "display_name": "Python 3",
   "language": "python",
   "name": "python3"
  },
  "language_info": {
   "codemirror_mode": {
    "name": "ipython",
    "version": 3
   },
   "file_extension": ".py",
   "mimetype": "text/x-python",
   "name": "python",
   "nbconvert_exporter": "python",
   "pygments_lexer": "ipython3",
   "version": "3.7.8"
  }
 },
 "nbformat": 4,
 "nbformat_minor": 4
}
