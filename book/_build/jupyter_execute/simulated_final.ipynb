{
 "cells": [
  {
   "cell_type": "markdown",
   "metadata": {},
   "source": [
    "# Final\n",
    "\n",
    "In this last section I will list my top four models and their respective performances on a validation set. However, only for my final model I will explain how the fitting procedure works in detail.\n",
    "\n",
    "In particular I consider a\n",
    "\n",
    "1. Linear model using a subset of features\n",
    "2. Deep neural network with dropout regularization\n",
    "3. Two-stage random forest with feature selection\n",
    "4. Gradient tree boosting (*the final model*)\n",
    "\n",
    "If you only care about the final model please jump directly to subsection 4, in which I explain how the model is fit on a theoretical basis as well as the (Python) implementation. Note also that in the very last subsection I include a table comparing the validation mean squared error for all of the presented models."
   ]
  },
  {
   "cell_type": "markdown",
   "metadata": {},
   "source": [
    "## Preliminaries"
   ]
  },
  {
   "cell_type": "code",
   "execution_count": 1,
   "metadata": {
    "execution": {
     "iopub.execute_input": "2020-08-28T13:48:14.052946Z",
     "iopub.status.busy": "2020-08-28T13:48:14.048396Z",
     "iopub.status.idle": "2020-08-28T13:48:16.017781Z",
     "shell.execute_reply": "2020-08-28T13:48:16.017003Z"
    }
   },
   "outputs": [],
   "source": [
    "import os\n",
    "from pathlib import Path\n",
    "\n",
    "import numpy as np\n",
    "import pandas as pd\n",
    "\n",
    "import matplotlib.pyplot as plt\n",
    "import seaborn as sns\n",
    "\n",
    "from tensorflow.keras import Sequential\n",
    "from tensorflow.keras.layers import Dense\n",
    "from tensorflow.keras.layers import Dropout\n",
    "from tensorflow.keras.wrappers.scikit_learn import KerasRegressor\n",
    "\n",
    "from sklearn.linear_model import LinearRegression\n",
    "from sklearn.preprocessing import PolynomialFeatures\n",
    "from sklearn.ensemble import RandomForestRegressor\n",
    "from sklearn.metrics import mean_squared_error\n",
    "\n",
    "from catboost import CatBoostRegressor\n",
    "\n",
    "ROOT = Path(os.getcwd()).parent\n",
    "np.random.seed(0)"
   ]
  },
  {
   "cell_type": "code",
   "execution_count": 2,
   "metadata": {
    "execution": {
     "iopub.execute_input": "2020-08-28T13:48:16.026514Z",
     "iopub.status.busy": "2020-08-28T13:48:16.025096Z",
     "iopub.status.idle": "2020-08-28T13:48:16.231964Z",
     "shell.execute_reply": "2020-08-28T13:48:16.232351Z"
    }
   },
   "outputs": [],
   "source": [
    "df_train = pd.read_parquet(ROOT / \"bld\" / \"train_simulated.parquet\")\n",
    "df_val = pd.read_parquet(ROOT / \"bld\" / \"validate_simulated.parquet\")\n",
    "\n",
    "y_train = df_train[\"Y\"]\n",
    "X_train = df_train.drop(\"Y\", axis=1)\n",
    "\n",
    "y_val = df_val[\"Y\"]\n",
    "X_val = df_val.drop(\"Y\", axis=1)"
   ]
  },
  {
   "cell_type": "markdown",
   "metadata": {},
   "source": [
    "## 1. Linear Model Using a Subset of Features\n",
    "\n",
    "Here I fit a simple \"two-step\" 3rd degree polynomial regression model to benchmark the machine learning methods from below. The procedure has two steps as I only consider the features $\\{X_3, X_{12}, X_{38}\\}$. This set of features was selected in the previous section using the recursive feature elimination strategy. However, basically all other feature selection strategies considered in the previous section selected a similar set of features."
   ]
  },
  {
   "cell_type": "code",
   "execution_count": 3,
   "metadata": {
    "execution": {
     "iopub.execute_input": "2020-08-28T13:48:16.242685Z",
     "iopub.status.busy": "2020-08-28T13:48:16.242003Z",
     "iopub.status.idle": "2020-08-28T13:48:16.304826Z",
     "shell.execute_reply": "2020-08-28T13:48:16.305372Z"
    }
   },
   "outputs": [
    {
     "name": "stdout",
     "output_type": "stream",
     "text": [
      "(Linear Model) MSE: 5.361621926612066\n"
     ]
    }
   ],
   "source": [
    "relevant = [f\"X{k}\" for k in [3, 12, 38]]\n",
    "\n",
    "XX_train = X_train[relevant]\n",
    "XX_val = X_val[relevant]\n",
    "\n",
    "poly = PolynomialFeatures(degree=3, include_bias=False)\n",
    "XX_train = poly.fit_transform(XX_train)\n",
    "XX_val = poly.transform(XX_val)\n",
    "\n",
    "lm = LinearRegression(n_jobs=3)\n",
    "lm.fit(XX_train, y_train)\n",
    "\n",
    "prediction = lm.predict(XX_val)\n",
    "mse_lm = mean_squared_error(y_val, prediction)\n",
    "print(f\"(Linear Model) MSE: {mse_lm}\")"
   ]
  },
  {
   "cell_type": "markdown",
   "metadata": {},
   "source": [
    "## 2. Deep Neural Network with Dropout Regularization\n",
    "\n",
    "I fit a deep neural network using the popular [keras](https://keras.io/) library ({cite}`keras`) which provides an intuitive API for the powerful [tensorflow](https://www.tensorflow.org/) package ({cite}`tensorflow`). The neural network architecture is set using the ``build_regressor`` function. I choose an archtecture with 7 layers. For the first layer I choose 50 hidden nodes, 25 hidden nodes for the second layer and 10 hidden nodes for the third to seventh layer. Moreover I use the so called [ReLu](https://en.wikipedia.org/wiki/Rectifier_(neural_networks)) activation function, which has been proven to outperform the classic sigmoid activation function in several ways, see for example {cite}`krizhevsky2017`. As overfitting is a big problem with deep networks I employ a popular technique called dropout regularization to mitigate this effect, see {cite}`srivastava2014`. Dropout leads to neurons in a layer being randomly deactivated for a single epoch during the backpropagation, which in turn leads to neighboring neurons not developing a relationship that is too strongly dependent, which in turn is said to mitigate overfitting.\n",
    "\n",
    "***Note.***\n",
    "\n",
    "I decide to use this specific architecture as I \"learned\" from the previous section that the main effects are sparse in the sense that only very few features are relevant. However, I also realized from playing around with some parameters and the validation error of the linear model that some effects must be highly non-linear. An architecture which reduces the nodes from the original 100 input dimensions to 50, then 25 and then 10 forces the network to select the relevant features. And by using the other additional 5 layers the network can find non-linear signals.\n",
    "\n",
    "***Remark.***\n",
    "\n",
    "Since the gradient boosted tree presented below performs so well I did not consider many different architectures. I do believe that the neural networks should be able to perform comparably well if a different architecture is chosen."
   ]
  },
  {
   "cell_type": "code",
   "execution_count": 4,
   "metadata": {
    "execution": {
     "iopub.execute_input": "2020-08-28T13:48:16.315677Z",
     "iopub.status.busy": "2020-08-28T13:48:16.314722Z",
     "iopub.status.idle": "2020-08-28T13:48:16.317380Z",
     "shell.execute_reply": "2020-08-28T13:48:16.317921Z"
    }
   },
   "outputs": [],
   "source": [
    "N_COL = X_train.shape[1]\n",
    "def build_regressor():\n",
    "    regressor = Sequential()\n",
    "    # first hidden layer\n",
    "    regressor.add(Dense(units=50, activation=\"relu\", input_dim=N_COL))\n",
    "    regressor.add(Dropout(0.2))\n",
    "    \n",
    "    # second hidden layer\n",
    "    regressor.add(Dense(units=25, activation=\"relu\"))\n",
    "    regressor.add(Dropout(0.2))\n",
    "    \n",
    "    # third to tenth hidden layer\n",
    "    for _ in range(5):\n",
    "        regressor.add(Dense(units=10, activation=\"relu\"))\n",
    "    \n",
    "    # output layer\n",
    "    regressor.add(Dense(units=1, activation=\"linear\"))\n",
    "    \n",
    "    # compile model\n",
    "    regressor.compile(optimizer=\"adam\", loss=\"mean_squared_error\")\n",
    "    return regressor"
   ]
  },
  {
   "cell_type": "code",
   "execution_count": 5,
   "metadata": {
    "execution": {
     "iopub.execute_input": "2020-08-28T13:48:16.328174Z",
     "iopub.status.busy": "2020-08-28T13:48:16.323672Z",
     "iopub.status.idle": "2020-08-28T13:53:24.041130Z",
     "shell.execute_reply": "2020-08-28T13:53:24.040501Z"
    }
   },
   "outputs": [
    {
     "name": "stdout",
     "output_type": "stream",
     "text": [
      "(Neural Network) MSE: 5.270290083073366\n"
     ]
    }
   ],
   "source": [
    "nnet = KerasRegressor(\n",
    "    build_fn=build_regressor, batch_size=128, epochs=200, verbose=0\n",
    ")\n",
    "nnet.fit(X_train, y_train)\n",
    "\n",
    "prediction = nnet.predict(X_val)\n",
    "mse_nnet = mean_squared_error(y_val, prediction)\n",
    "print(f\"(Neural Network) MSE: {mse_nnet}\")"
   ]
  },
  {
   "cell_type": "markdown",
   "metadata": {},
   "source": [
    "## 3. Two-stage Random Forest with Feature Selection\n",
    "\n",
    "In this two stage procedure I first fit a random forest on the full set of features. I then consider a feature importance measure, which can be automatically calculated from the random forest fit. Using this I select the 30 *most* important features and fit another random forest on this subset of features.\n",
    "\n",
    "***First Stage***"
   ]
  },
  {
   "cell_type": "code",
   "execution_count": 6,
   "metadata": {
    "execution": {
     "iopub.execute_input": "2020-08-28T13:53:24.045021Z",
     "iopub.status.busy": "2020-08-28T13:53:24.043780Z",
     "iopub.status.idle": "2020-08-28T13:55:07.725838Z",
     "shell.execute_reply": "2020-08-28T13:55:07.726988Z"
    }
   },
   "outputs": [
    {
     "name": "stdout",
     "output_type": "stream",
     "text": [
      "First stage MSE: 5.1615609346407565\n"
     ]
    }
   ],
   "source": [
    "rf = RandomForestRegressor(\n",
    "    n_estimators=250, \n",
    "    max_features=25, \n",
    "    max_depth=15,\n",
    "    min_samples_leaf=100,\n",
    "    bootstrap=True,\n",
    "    n_jobs=3,\n",
    "    random_state=1,\n",
    ")\n",
    "rf.fit(X_train, y_train.values)\n",
    "\n",
    "std = np.std(\n",
    "    [tree.feature_importances_ for tree in rf.estimators_], \n",
    "    axis=0\n",
    ")\n",
    "indices = np.argsort(rf.feature_importances_)[::-1]\n",
    "relevant = [f\"X{i+1}\" for i in indices[:30]]\n",
    "\n",
    "prediction = rf.predict(X_val)\n",
    "mse_first_stage = mean_squared_error(y_val, prediction)\n",
    "print(f\"First stage MSE: {mse_first_stage}\")"
   ]
  },
  {
   "cell_type": "code",
   "execution_count": 7,
   "metadata": {
    "execution": {
     "iopub.execute_input": "2020-08-28T13:55:07.740472Z",
     "iopub.status.busy": "2020-08-28T13:55:07.739318Z",
     "iopub.status.idle": "2020-08-28T13:55:08.282815Z",
     "shell.execute_reply": "2020-08-28T13:55:08.281847Z"
    }
   },
   "outputs": [
    {
     "data": {
      "image/png": "[encoded data removed]",
      "text/plain": [
       "<Figure size 1152x432 with 1 Axes>"
      ]
     },
     "metadata": {
      "filenames": {
       "image/png": "/home/tim/sciebo/uni-master/topics-econometrics/project/book/_build/jupyter_execute/simulated_final_11_0.png"
      },
      "needs_background": "light"
     },
     "output_type": "display_data"
    }
   ],
   "source": [
    "# plotting code: can be safely ignored\n",
    "plt.rcParams.update({'font.size': 16, 'figure.figsize': (16, 6)})\n",
    "cut = 40\n",
    "x = range(X_train.shape[1])[:cut]\n",
    "y = rf.feature_importances_[indices][:cut]\n",
    "plt.figure()\n",
    "plt.title(f\"Feature importances (displaying only the {cut} most important features)\")\n",
    "plt.bar(x, y, color=\"r\", yerr=std[indices][:cut], align=\"center\")\n",
    "plt.xticks(x, indices[:cut])\n",
    "plt.xlim([-1, cut])\n",
    "plt.show()"
   ]
  },
  {
   "cell_type": "markdown",
   "metadata": {},
   "source": [
    "***Second Stage***"
   ]
  },
  {
   "cell_type": "code",
   "execution_count": 8,
   "metadata": {
    "execution": {
     "iopub.execute_input": "2020-08-28T13:55:08.303528Z",
     "iopub.status.busy": "2020-08-28T13:55:08.302607Z",
     "iopub.status.idle": "2020-08-28T13:56:14.870776Z",
     "shell.execute_reply": "2020-08-28T13:56:14.871946Z"
    }
   },
   "outputs": [
    {
     "name": "stdout",
     "output_type": "stream",
     "text": [
      "(Random Forest) MSE: 5.120511556417796\n"
     ]
    }
   ],
   "source": [
    "XX_train = X_train[relevant]\n",
    "XX_val = X_val[relevant]\n",
    "\n",
    "rf = RandomForestRegressor(\n",
    "    n_estimators=250, \n",
    "    max_features=15, \n",
    "    max_depth=15,\n",
    "    min_samples_leaf=100,\n",
    "    bootstrap=True,\n",
    "    n_jobs=3,\n",
    "    random_state=1,\n",
    ")\n",
    "rf.fit(XX_train, y_train.values)\n",
    "\n",
    "prediction = rf.predict(XX_val)\n",
    "mse_rf = mean_squared_error(y_val, prediction)\n",
    "print(f\"(Random Forest) MSE: {mse_rf}\")"
   ]
  },
  {
   "cell_type": "markdown",
   "metadata": {},
   "source": [
    "## 4. Gradient tree boosting (*the final model*)\n",
    "\n",
    "The final model I am using is a specific variant of a gradient boosted tree. The key concepts of the method are equivalent to the seminal paper by Friedman, see {cite}`friedman2002`. I use the version implemented in the [catboost](https://catboost.ai/) package, which differs slightly from common implementations. Next I will introduce the concept of gradient boosting with a particular focus on tree weak-learners. Afterwards I show how to fit a model using ``catboost``. Note that my final prediction submissions are not made with this specific model since here I only use my training sample. The final predictions are made with the script [final_prediction.py](https://github.com/timmens/topics-project/blob/main/codes/final_prediction.py).\n",
    "\n",
    "\n",
    "### Theory\n",
    "\n",
    "Write about the theory of Catboost HERERERE!!!\n",
    "\n",
    "\n",
    "### Implementation / Application"
   ]
  },
  {
   "cell_type": "code",
   "execution_count": 9,
   "metadata": {
    "execution": {
     "iopub.execute_input": "2020-08-28T13:56:14.888618Z",
     "iopub.status.busy": "2020-08-28T13:56:14.887681Z",
     "iopub.status.idle": "2020-08-28T13:56:44.611784Z",
     "shell.execute_reply": "2020-08-28T13:56:44.611352Z"
    }
   },
   "outputs": [
    {
     "name": "stdout",
     "output_type": "stream",
     "text": [
      "(Catboost) MSE: 5.048105271497743\n"
     ]
    }
   ],
   "source": [
    "gbt = CatBoostRegressor(\n",
    "    iterations=1500,\n",
    "    learning_rate=0.01, \n",
    "    depth=5,\n",
    "    loss_function=\"RMSE\",\n",
    "    random_state=1\n",
    ")\n",
    "gbt.fit(X_train, y_train, verbose=False)\n",
    "\n",
    "prediction = gbt.predict(X_val)\n",
    "mse_gbt = mean_squared_error(y_val, prediction)\n",
    "print(f\"(Catboost) MSE: {mse_gbt}\")"
   ]
  },
  {
   "cell_type": "markdown",
   "metadata": {},
   "source": [
    "## MSE Comparison"
   ]
  },
  {
   "cell_type": "code",
   "execution_count": 10,
   "metadata": {
    "execution": {
     "iopub.execute_input": "2020-08-28T13:56:44.617268Z",
     "iopub.status.busy": "2020-08-28T13:56:44.616759Z",
     "iopub.status.idle": "2020-08-28T13:56:44.784751Z",
     "shell.execute_reply": "2020-08-28T13:56:44.785150Z"
    }
   },
   "outputs": [
    {
     "data": {
      "image/png": "[encoded data removed]",
      "text/plain": [
       "<Figure size 1152x432 with 1 Axes>"
      ]
     },
     "metadata": {
      "filenames": {
       "image/png": "/home/tim/sciebo/uni-master/topics-econometrics/project/book/_build/jupyter_execute/simulated_final_17_0.png"
      }
     },
     "output_type": "display_data"
    }
   ],
   "source": [
    "models = [\"nnet\", \"lm\", \"rf\", \"catboost\"]\n",
    "mses = [mse_nnet, mse_lm, mse_rf, mse_gbt]\n",
    "data = pd.DataFrame(zip(models, mses), columns=[\"model\", \"mse\"])\n",
    "\n",
    "sns.set_style(\"whitegrid\")\n",
    "plt.ylim(5, 5.5)\n",
    "_ = sns.scatterplot(\n",
    "    x=\"model\", y=\"mse\", data=data, hue=\"model\", s=500, legend=None\n",
    ")"
   ]
  }
 ],
 "metadata": {
  "kernelspec": {
   "display_name": "Python 3",
   "language": "python",
   "name": "python3"
  },
  "language_info": {
   "codemirror_mode": {
    "name": "ipython",
    "version": 3
   },
   "file_extension": ".py",
   "mimetype": "text/x-python",
   "name": "python",
   "nbconvert_exporter": "python",
   "pygments_lexer": "ipython3",
   "version": "3.7.8"
  }
 },
 "nbformat": 4,
 "nbformat_minor": 4
}