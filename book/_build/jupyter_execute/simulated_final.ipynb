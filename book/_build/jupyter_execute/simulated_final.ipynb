{
 "cells": [
  {
   "cell_type": "markdown",
   "metadata": {},
   "source": [
    "# Final\n",
    "\n",
    "In this last section I will list my top four models and their respective performances on a validation set. Please note that only for my final model I will explain how the fitting procedure works in detail.\n",
    "\n",
    "I consider a\n",
    "\n",
    "1. Linear model using a subset of features\n",
    "2. Deep neural network with dropout regularization\n",
    "3. Two-stage random forest with feature selection\n",
    "4. Gradient tree boosting (*the final model*)\n",
    "\n",
    "If you only care about the final model please jump directly to subsection 4, in which I explain how the model is fit on a theoretical basis as well as how to implement it in Python. Note also that in the very last subsection I include a table comparing the validation mean squared error for all of the presented models."
   ]
  },
  {
   "cell_type": "markdown",
   "metadata": {},
   "source": [
    "## Preliminaries"
   ]
  },
  {
   "cell_type": "code",
   "execution_count": 1,
   "metadata": {
    "execution": {
     "iopub.execute_input": "2020-08-29T11:28:18.487659Z",
     "iopub.status.busy": "2020-08-29T11:28:18.483613Z",
     "iopub.status.idle": "2020-08-29T11:28:20.408035Z",
     "shell.execute_reply": "2020-08-29T11:28:20.407356Z"
    }
   },
   "outputs": [],
   "source": [
    "import os\n",
    "from pathlib import Path\n",
    "\n",
    "import numpy as np\n",
    "import pandas as pd\n",
    "\n",
    "import matplotlib.pyplot as plt\n",
    "import seaborn as sns\n",
    "\n",
    "from tensorflow.keras import Sequential\n",
    "from tensorflow.keras.layers import Dense\n",
    "from tensorflow.keras.layers import Dropout\n",
    "from tensorflow.keras.wrappers.scikit_learn import KerasRegressor\n",
    "\n",
    "from sklearn.linear_model import LinearRegression\n",
    "from sklearn.preprocessing import PolynomialFeatures\n",
    "from sklearn.ensemble import RandomForestRegressor\n",
    "from sklearn.metrics import mean_squared_error\n",
    "\n",
    "from catboost import CatBoostRegressor\n",
    "\n",
    "ROOT = Path(os.getcwd()).parent\n",
    "np.random.seed(0)"
   ]
  },
  {
   "cell_type": "code",
   "execution_count": 2,
   "metadata": {
    "execution": {
     "iopub.execute_input": "2020-08-29T11:28:20.415376Z",
     "iopub.status.busy": "2020-08-29T11:28:20.414615Z",
     "iopub.status.idle": "2020-08-29T11:28:20.630866Z",
     "shell.execute_reply": "2020-08-29T11:28:20.630042Z"
    }
   },
   "outputs": [],
   "source": [
    "df_train = pd.read_parquet(ROOT / \"bld\" / \"train_simulated.parquet\")\n",
    "df_val = pd.read_parquet(ROOT / \"bld\" / \"validate_simulated.parquet\")\n",
    "\n",
    "y_train = df_train[\"Y\"]\n",
    "X_train = df_train.drop(\"Y\", axis=1)\n",
    "\n",
    "y_val = df_val[\"Y\"]\n",
    "X_val = df_val.drop(\"Y\", axis=1)"
   ]
  },
  {
   "cell_type": "markdown",
   "metadata": {},
   "source": [
    "## 1. Linear Model Using a Subset of Features\n",
    "\n",
    "Here I fit a simple two-step 3rd degree polynomial regression model to benchmark the machine learning methods from below. The procedure has two steps as I only consider the features $\\{X_3, X_{12}, X_{38}\\}$. This set of features was selected in the previous section using the recursive feature elimination strategy. However, basically all other feature selection strategies considered in the previous section selected a similar set of features."
   ]
  },
  {
   "cell_type": "code",
   "execution_count": 3,
   "metadata": {
    "execution": {
     "iopub.execute_input": "2020-08-29T11:28:20.646889Z",
     "iopub.status.busy": "2020-08-29T11:28:20.645505Z",
     "iopub.status.idle": "2020-08-29T11:28:20.708456Z",
     "shell.execute_reply": "2020-08-29T11:28:20.708828Z"
    }
   },
   "outputs": [
    {
     "name": "stdout",
     "output_type": "stream",
     "text": [
      "(Linear Model) MSE: 5.361621926612066\n"
     ]
    }
   ],
   "source": [
    "relevant = [f\"X{k}\" for k in [3, 12, 38]]\n",
    "\n",
    "XX_train = X_train[relevant]\n",
    "XX_val = X_val[relevant]\n",
    "\n",
    "poly = PolynomialFeatures(degree=3, include_bias=False)\n",
    "XX_train = poly.fit_transform(XX_train)\n",
    "XX_val = poly.transform(XX_val)\n",
    "\n",
    "lm = LinearRegression(n_jobs=3)\n",
    "lm.fit(XX_train, y_train)\n",
    "\n",
    "prediction = lm.predict(XX_val)\n",
    "mse_lm = mean_squared_error(y_val, prediction)\n",
    "print(f\"(Linear Model) MSE: {mse_lm}\")"
   ]
  },
  {
   "cell_type": "markdown",
   "metadata": {},
   "source": [
    "## 2. Deep Neural Network with Dropout Regularization\n",
    "\n",
    "I fit a deep neural network using the popular [keras](https://keras.io/) library ({cite}`keras`) which provides an intuitive API for the powerful [tensorflow](https://www.tensorflow.org/) package ({cite}`tensorflow`). The neural network architecture is set using the ``build_regressor`` function. I choose an archtecture with 7 layers. For the first layer I choose 50 hidden nodes, for the second layer 25 hidden nodes and for all remaining layers I choose 10 hidden nodes. Moreover I use the so called [ReLu](https://en.wikipedia.org/wiki/Rectifier_(neural_networks)) activation function, which has been proven to outperform the classic sigmoid activation function in several ways, see for example {cite}`krizhevsky2017`. As overfitting is a big problem with deep networks I employ a popular technique called dropout regularization to mitigate this effect, see {cite}`srivastava2014`. Dropout leads to neurons in a layer being randomly deactivated for a single epoch during the backpropagation. This avoids neighboring neurons developing a strong dependency, which is said to mitigate overfitting.\n",
    "\n",
    "***Note.*** I decide to use this specific architecture as I \"learned\" from the previous section that the main effects are sparse in the sense that most likely only very few features are relevant. However, I also realized from playing around with the linear model while watching the validation error that some effects must be non-linear. An architecture which reduces the nodes from the original 100 input dimensions to 50, then 25 and then 10, forces the network to select relevant features. And by using the additional 5 layers the network can potentially find non-linear signals.\n",
    "\n",
    "***Remark.*** Since the gradient boosted tree presented below performs so well I did not consider many different architectures. I do believe that the neural networks should be able to perform comparably well if a different architecture is chosen."
   ]
  },
  {
   "cell_type": "code",
   "execution_count": 4,
   "metadata": {
    "execution": {
     "iopub.execute_input": "2020-08-29T11:28:20.718599Z",
     "iopub.status.busy": "2020-08-29T11:28:20.717891Z",
     "iopub.status.idle": "2020-08-29T11:28:20.721155Z",
     "shell.execute_reply": "2020-08-29T11:28:20.721527Z"
    }
   },
   "outputs": [],
   "source": [
    "N_COL = X_train.shape[1]\n",
    "def build_regressor():\n",
    "    regressor = Sequential()\n",
    "    # first hidden layer\n",
    "    regressor.add(Dense(units=50, activation=\"relu\", input_dim=N_COL))\n",
    "    regressor.add(Dropout(0.2))\n",
    "    \n",
    "    # second hidden layer\n",
    "    regressor.add(Dense(units=25, activation=\"relu\"))\n",
    "    regressor.add(Dropout(0.2))\n",
    "    \n",
    "    # third to tenth hidden layer\n",
    "    for _ in range(5):\n",
    "        regressor.add(Dense(units=10, activation=\"relu\"))\n",
    "    \n",
    "    # output layer\n",
    "    regressor.add(Dense(units=1, activation=\"linear\"))\n",
    "    \n",
    "    # compile model\n",
    "    regressor.compile(optimizer=\"adam\", loss=\"mean_squared_error\")\n",
    "    return regressor"
   ]
  },
  {
   "cell_type": "code",
   "execution_count": 5,
   "metadata": {
    "execution": {
     "iopub.execute_input": "2020-08-29T11:28:20.724627Z",
     "iopub.status.busy": "2020-08-29T11:28:20.723725Z",
     "iopub.status.idle": "2020-08-29T11:33:19.296964Z",
     "shell.execute_reply": "2020-08-29T11:33:19.296348Z"
    }
   },
   "outputs": [
    {
     "name": "stdout",
     "output_type": "stream",
     "text": [
      "(Neural Network) MSE: 5.314719039017088\n"
     ]
    }
   ],
   "source": [
    "nnet = KerasRegressor(\n",
    "    build_fn=build_regressor, batch_size=128, epochs=200, verbose=0\n",
    ")\n",
    "nnet.fit(X_train, y_train)\n",
    "\n",
    "prediction = nnet.predict(X_val)\n",
    "mse_nnet = mean_squared_error(y_val, prediction)\n",
    "print(f\"(Neural Network) MSE: {mse_nnet}\")"
   ]
  },
  {
   "cell_type": "markdown",
   "metadata": {},
   "source": [
    "## 3. Two-stage Random Forest with Feature Selection\n",
    "\n",
    "In this two stage procedure I first fit a random forest on the full set of features. I then consider the standard feature importance measure of random forests, which is automatically calculated from the fitting procedure. Using this I select the 30 *most* important features and fit another random forest on this subset of features.\n",
    "\n",
    "***First Stage***"
   ]
  },
  {
   "cell_type": "code",
   "execution_count": 6,
   "metadata": {
    "execution": {
     "iopub.execute_input": "2020-08-29T11:33:19.300676Z",
     "iopub.status.busy": "2020-08-29T11:33:19.299430Z",
     "iopub.status.idle": "2020-08-29T11:35:00.062983Z",
     "shell.execute_reply": "2020-08-29T11:35:00.064134Z"
    }
   },
   "outputs": [
    {
     "name": "stdout",
     "output_type": "stream",
     "text": [
      "First stage MSE: 5.1615609346407565\n"
     ]
    }
   ],
   "source": [
    "rf = RandomForestRegressor(\n",
    "    n_estimators=250, \n",
    "    max_features=25, \n",
    "    max_depth=15,\n",
    "    min_samples_leaf=100,\n",
    "    bootstrap=True,\n",
    "    n_jobs=3,\n",
    "    random_state=1,\n",
    ")\n",
    "rf.fit(X_train, y_train.values)\n",
    "\n",
    "std = np.std(\n",
    "    [tree.feature_importances_ for tree in rf.estimators_], \n",
    "    axis=0\n",
    ")\n",
    "indices = np.argsort(rf.feature_importances_)[::-1]\n",
    "relevant = [f\"X{i+1}\" for i in indices[:30]]\n",
    "\n",
    "prediction = rf.predict(X_val)\n",
    "mse_first_stage = mean_squared_error(y_val, prediction)\n",
    "print(f\"First stage MSE: {mse_first_stage}\")"
   ]
  },
  {
   "cell_type": "code",
   "execution_count": 7,
   "metadata": {
    "execution": {
     "iopub.execute_input": "2020-08-29T11:35:00.074822Z",
     "iopub.status.busy": "2020-08-29T11:35:00.074012Z",
     "iopub.status.idle": "2020-08-29T11:35:00.610203Z",
     "shell.execute_reply": "2020-08-29T11:35:00.609264Z"
    }
   },
   "outputs": [
    {
     "data": {
      "image/png": "[encoded data removed]",
      "text/plain": [
       "<Figure size 1152x432 with 1 Axes>"
      ]
     },
     "metadata": {
      "filenames": {
       "image/png": "/home/tim/sciebo/uni-master/topics-econometrics/project/book/_build/jupyter_execute/simulated_final_11_0.png"
      },
      "needs_background": "light"
     },
     "output_type": "display_data"
    }
   ],
   "source": [
    "# plotting code: can be safely ignored\n",
    "plt.rcParams.update({'font.size': 16, 'figure.figsize': (16, 6)})\n",
    "cut = 40\n",
    "x = range(X_train.shape[1])[:cut]\n",
    "y = rf.feature_importances_[indices][:cut]\n",
    "plt.figure()\n",
    "plt.title(f\"Feature importances (displaying only the {cut} most important features)\")\n",
    "plt.bar(x, y, color=\"r\", yerr=std[indices][:cut], align=\"center\")\n",
    "plt.xticks(x, indices[:cut])\n",
    "plt.xlim([-1, cut])\n",
    "plt.show()"
   ]
  },
  {
   "cell_type": "markdown",
   "metadata": {},
   "source": [
    "***Second Stage***"
   ]
  },
  {
   "cell_type": "code",
   "execution_count": 8,
   "metadata": {
    "execution": {
     "iopub.execute_input": "2020-08-29T11:35:00.629413Z",
     "iopub.status.busy": "2020-08-29T11:35:00.628455Z",
     "iopub.status.idle": "2020-08-29T11:36:00.957235Z",
     "shell.execute_reply": "2020-08-29T11:36:00.956073Z"
    }
   },
   "outputs": [
    {
     "name": "stdout",
     "output_type": "stream",
     "text": [
      "(Random Forest) MSE: 5.120511556417796\n"
     ]
    }
   ],
   "source": [
    "XX_train = X_train[relevant]\n",
    "XX_val = X_val[relevant]\n",
    "\n",
    "rf = RandomForestRegressor(\n",
    "    n_estimators=250, \n",
    "    max_features=15, \n",
    "    max_depth=15,\n",
    "    min_samples_leaf=100,\n",
    "    bootstrap=True,\n",
    "    n_jobs=3,\n",
    "    random_state=1,\n",
    ")\n",
    "rf.fit(XX_train, y_train.values)\n",
    "\n",
    "prediction = rf.predict(XX_val)\n",
    "mse_rf = mean_squared_error(y_val, prediction)\n",
    "print(f\"(Random Forest) MSE: {mse_rf}\")"
   ]
  },
  {
   "cell_type": "markdown",
   "metadata": {},
   "source": [
    "## 4. Gradient tree boosting (*the final model*)\n",
    "\n",
    "The final model I decided to use is a specific variant of a gradient boosted tree. The key concepts of this method are equivalent to the algorithm proposed in the seminal paper by Friedman, see {cite}`friedman2002`. The version I am using is implemented in the [catboost](https://catboost.ai/) package, which differs slightly from common other implementations. Next I will introduce the theoretical concept of gradient boosting with a particular focus on tree weak-learners. Afterwards I show how to fit a model using ``catboost``.\n",
    "\n",
    "***Note.*** My final prediction submissions are made with the exact model specification as presented in below, but using all the data. The corresponding script can be found here [final_prediction.py](https://github.com/timmens/topics-project/blob/main/codes/final_prediction.py).\n",
    "\n",
    "\n",
    "### Theory\n",
    "\n",
    "I will first explain the general idea behind boosting and gradient boosting. Then I show how the general formulas simplify when using (regression) trees as base-learners. At last I illustrate how out-of-sample prediction loss may be improved by using ideas from stochastic gradient descent and regularization.\n",
    "\n",
    "***Note.*** My notation and explaination is guided by {cite}`friedman2002` and {cite}`esl2001`."
   ]
  },
  {
   "cell_type": "markdown",
   "metadata": {},
   "source": [
    "---\n",
    "\n",
    "**Notation and Preliminaries**\n",
    "\n",
    "Assume we are given a data set $\\{(x_i, y_i) : i=1,\\dots,N\\}$, with $x_i \\in \\mathbb{R}^p$ and $y_i \\in \\mathbb{R}$. These observations are assumed to be i.i.d. according to some joint distribution $\\mathbb{P}_{xy}$. A goal of statistical learning is to find a function $f^* : \\mathbb{R}^p \\to \\mathbb{R}$ such that\n",
    "$$\n",
    "    f^* = \\underset{f}{\\text{argmin}} \\, \\mathbb{E}_{xy}\\left[L(y, f(x)) \\right] ,\n",
    "$$\n",
    "given some loss function $L$, where the expecation is taken over the joint distribution of $x$ and $y$ values.\n",
    "\n",
    "As is very common in statistical learning, boosting is a procedure to approximate $f^*$ by an additive model of the form\n",
    "\n",
    "$$\n",
    "    f(x) = \\sum_{m=0}^M f_m(x) = \\sum_{m=0}^M \\beta_m b(x; \\gamma_m), $$\n",
    "where the $\\beta_m$ denote expansion coefficients and $b(\\cdot\\,,\\gamma) : \\mathbb{R}^p \\to \\mathbb{R}$ denote the so called *base-learners* which are parameterized by $\\gamma$. If feasible in general we would like to estimate the parameters by solving\n",
    "\n",
    "$$\n",
    "    \\underset{\\{\\beta_m, \\gamma_m\\}_1^M}{\\min}  \\sum_{i=1}^N L\\left(y_i, \\sum_{m=0}^M \\beta_m b(x_i; \\gamma_m)\\right) .\n",
    "$$\n",
    "For a general loss function and base-learner, however, this optimization is computationally intractable.\n",
    "\n",
    "---\n",
    "\n",
    "**General Concept**\n",
    "\n",
    "A simple algorithm to approximate the coefficient estimates from above is to fit each tuple $(\\beta_m, \\gamma_m)$ in a stage-wise fashion. That is, one starts with an initial guess $f_0$ and then\n",
    "\n",
    "for each $m=1,\\dots, M$ do:\n",
    "1. $(\\beta_m, \\gamma_m) = \\underset{\\beta, \\gamma}{\\text{argmin}} \\, \\sum_{i=1}^N L \\left(y_i, f_{m-1}(x_i) + \\beta b(x_i; \\gamma) \\right)$\n",
    "2. $f_m(x) = f_{m-1}(x) + \\beta_m b(x, \\gamma_m)$.\n",
    "\n",
    "This simplifies the optimization problem from above consideribly, but again, for general loss functions and base-learners step 1 can be hard to solve.\n",
    "\n",
    "---\n",
    "\n",
    "**Gradient Boosting**\n",
    "\n",
    "Gradient boosting, as proposed in {cite}`friedman2000`, approximately solves the first step from above for differentiable loss functions using a three step procedure. In the $m$-th loop from above we do\n",
    "\n",
    "1. $r_{im} := - \\left[\\frac{\\partial L(y_i, f(x_i))}{\\partial f(x_i)}  \\right]_{f(x) = f_{m-1}(x)}$\n",
    "2. $\\gamma_m = \\underset{\\gamma, \\rho}{\\text{argmin}} \\, \\sum_{i=1}^N \\left(r_{im} - \\rho b(x_i; \\gamma) \\right)^2$\n",
    "3. $\\beta_m = \\underset{\\beta}{\\text{argmin}} \\, \\sum_{i=1}^N L \\left(y_i, f_{m-1}(x_i) + \\beta b(x_i; \\gamma_m) \\right)$.\n",
    "\n",
    "That is, we first compute the gradient, whose entries we call *pseudo-residuals*, and fit a single base-learner using the least-squares method. Lastly we have to solve a general optimization problem, but only in a single variable. \n",
    "\n",
    "With squared-error loss ($L(y, x) = \\frac{1}{2}(y - x)^2$) the pseudo-residuals $r_{im}$ are equivalent to the actual residuals $r_{im} = y_i - f_{m-1}(x_i)$. This allows for the nice interpretation of the procedure that given any step $m$, we consider the deviations of the labels $y_i$ from our current estimate $f_{m-1}(x_i)$ and train a model to fit these deviations. With other loss functions, say absolute-error loss ($L(y, x) = |y - x|$) we get $r_{im} = \\text{sign}(y_i - f_{m-1}(x_i))$ and in the $m$-th step the base-learner is fit to simply predict the direction to which a sample deviates, which is more robust to outliers as it ignores the magnitude of the deviation.\n",
    "\n",
    "---\n",
    "\n",
    "**Gradient Tree Boosting**\n",
    "\n",
    "A popular choice of base-learners are decision trees. When using trees as base learners some steps in the generic algorithm simplify and some can even be improved. First, let us formally define a tree. A regression tree with $J$ terminal-nodes is a function\n",
    "$$\n",
    "    T\\left(x; \\{\\alpha_j, R_j\\}_{j=1}^J \\right) = \\sum_{j=1}^J \\alpha_j \\mathbb{1}_{R_j} (x) \\,,\n",
    "$$\n",
    "where $\\{R_j\\}_{j=1}^J$ is a partition of the feature space $\\mathbb{R}^p$. Strictly speaking, $J$ is also a parameter, however, it is usually considered a *hyper-parameter* which has to be chosen using prior information or via methods like cross-validation. \n",
    "\n",
    "Let us now consider the second step of the above algorithm. First note that optimizing over $\\rho$ is irrelevant in the case of trees as we can always define $\\tilde{\\alpha}_j := \\rho \\alpha_j$. But then solving 2 is equivalent to solving\n",
    "\n",
    "$$\n",
    "\\{\\alpha_{jm}, R_{jm}\\}_{j=1}^J =: \\gamma_m = \\underset{\\gamma}{\\text{argmin}} \\, \\sum_{i=1}^N \\left(r_{im} - T(x_i; \\gamma) \\right)^2 \\,,\n",
    "$$\n",
    "For a given $J$ this combinatorial optimization problem is again computationally intractable, but there are many algorithms which approximate the solution; see for example the CART algorithm in {cite}`esl2001`.\n",
    "\n",
    "Henceforth say we have (approximately) solved the tree optimization problem (step 2) and are left to optimize for the constant $\\beta_m$ (step 3). As will be seen, with trees we can even go one step further and choose an optimal value for each terminal-node region. Let $\\gamma_m = \\{\\alpha_j, R_j\\}_{j=1}^J$ be the fitted parameters from step 2. The next simplification when using trees stems from the fact the the $R_j$'s form a partition of the feature space. We can rewrite the sum over the individuals as a sum over the terminal-node regions, as a tree predicts the same value for each region. That is, step 3 becomes\n",
    "\n",
    "$$\n",
    "\\{\\beta_{jm}\\}_{j=1}^J = \\underset{\\beta_1,\\dots,\\beta_J}{\\text{argmin}} \\, \\sum_{j=1}^J \\sum_{x_i \\in R_j} L \\left(y_i, f_{m-1}(x_i) + \\beta_j \\right) \\,,\n",
    "$$\n",
    "which can be solved for each region seperately. Note that we can write $L \\left(y_i, f_{m-1}(x_i) + \\beta_j \\right)$ instead of $L \\left(y_i, f_{m-1}(x_i) + \\beta_j \\alpha_j \\right)$ for the same reasons as stated above. As an example, with squared error loss we would then get $\\beta_{jm} = \\text{mean}(y_i - f_{m-1}(x_i) : x_i \\in R_{jm}) = \\text{mean}(r_{im} : x_i \\in R_{jm})$.\n",
    "\n",
    "---\n",
    "\n",
    "**Algorithm**\n",
    "\n",
    "For the sake of clarity I illustrate the complete gradient tree boosting algorithm. This corresponds to Algorithm 10.3 (Gradient Tree Boosting Algorithm) in {cite}`esl2001`.\n",
    "\n",
    "*Input*: $M$ (number of trees), $J$ (number of terminal nodes), $L$ (loss function), $\\{(x_i, y_i)\\}_{i=1}^N$ (training data).\n",
    "\n",
    "1. $f_0 = \\underset{\\gamma}{\\text{argmin}} \\sum_{i=1}^N L(y_i, \\gamma)$\n",
    "2. For $m = 1, \\dots, M$:\n",
    "    - a) For $i=1,\\dots,N$ compute $r_{im} := - \\left[\\frac{\\partial L(y_i, f(x_i))}{\\partial f(x_i)}  \\right]_{f = f_{m-1}}$\n",
    "    - b) Fit a tree to $\\{(x_i, r_{im})\\}_{i=1}^N$ resulting in regions $\\{R_{jm}\\}_{j=1}^J$\n",
    "    - c) For $j=1,\\dots,J$ solve $\\gamma_{jm} = \\underset{\\gamma}{\\text{argmin}} \\sum_{x_i \\in R_{jm}} L(y_i, f_{m-1}(x_i) + \\gamma)$\n",
    "    - d) Update $f_m = f_{m-1} + \\sum_{j=1}^J \\gamma_{jm} \\mathbb{1}_{R_{jm}}$\n",
    "3. Return $f = f_M$\n",
    "\n",
    "---\n",
    "\n",
    "**Enhancements**\n",
    "\n",
    "Until now we have not mentioned two key concepts used widely in the statistical and machine learning literature. *Injecting randomness*, which is used to decorrelate trees and therefore to avoid overfitting, and *regularization*, which is is also used to avoid overfitting.\n",
    "\n",
    "- ***Injecting Randomness.***\n",
    "From empirical experience it has been seen that methods like bagging {cite}`breiman96` and random forests {cite}`breiman2001` outperform similar algorithms that do not explicitly make use of randomness. Similarly stochastic gradient descent is considered superior to the classical gradient descent algorithm when used in a machine learning setting; see {cite}`bottou2016`. The easiest way to inject randomness to the gradient boosting algorithm is described in {cite}`friedman2002`. In the second step of the above algorithm we simply consider a randommly shuffled subset of the data of size $N' < N$. On top of potentially improving out-of-sample fit, this can lead to significantly shorter training times. \n",
    "\n",
    "- ***Regularization.***\n",
    "Similarly as injecting randomness, a popular technique to avoid overfitting is regularization. Especially shrinkage methods like ridge regression and lasso have gained immense popularity; see for example {cite}`slws2015`. An immediate enhancement to the above algorithm is to include a shrinkage paramater $0 < \\nu \\leq 1$ in the updating step, which is usually called the *learning rate*. In step 2.d) we then modify the equation slightly to get\n",
    "$$f_m = f_{m-1} + \\nu \\sum_{j=1}^J \\gamma_{jm} \\mathbb{1}_{R_{jm}} \\,.$$\n",
    "It was found empirically that small values of the learning rate, $\\nu < 0.1$, lead to better generalization; see {cite}`friedman2000`.\n",
    "\n",
    "---\n",
    "\n",
    "**Catboost**\n",
    "\n",
    "Catboost is an open-source library for gradient boosting on decision trees. Its implementation differs slighty from the above algorithm. As of right now it outperforms or ties with most other open-source boosting libraries such as [LightGBM](https://lightgbm.readthedocs.io/en/latest/), [XGBoost](https://xgboost.readthedocs.io/en/latest/) and [H2O](https://docs.h2o.ai/h2o/latest-stable/h2o-docs/data-science/gbm.html); see the benchmarks [here](https://catboost.ai/#benchmark). Next I will list the main differences and refer to the respective papers for reference.\n",
    "\n",
    "- ***Categorical Features.***\n",
    "The main new feature in ``catboost`` is the clever support of categorical features. Decision trees cannot usally deal with categorical features with more than 2 states. (This is of course because the binary relation \"$\\leq$\" must not be defined on the discrete space.) A common approach is the so called *one-hot* encoding, where we introduce a new feature binary feature for the activation of each state. If the feature set includes many categorical features and the state space is large for many, then one-hot encoding can blow up the dimensionality of the problem to a problematic extent. Another approach is to use target statistics, in which we try to map the categorical features to numerical ones. Say the $k$-th feature is categorical. Frequently the target statistic is chosen as to approximate the conditional mean, i.e. $\\tilde{x}_{ik} \\approx \\mathbb{E}_{xy}\\left[y \\mid x = x_{ik}\\right]$. See {cite}`dorogush2018` for details.\n",
    "\n",
    "- ***Unbiased Gradients.***\n",
    "It is argued in {cite}`dorogush2017` that gradient boosting suffers from a bias generated by using biased gradient estimates, which leads to overfitting. Theorem 1 in {cite}`prokhorenkova2017` proves this result under some conditions on the algorithm. A solution to avoid this effect is proposed in the above papers and implemented in ``catboost``.\n",
    "\n",
    "- ***Oblivious Trees.***\n",
    "The base-learner used in ``catboost`` is not a regular decision tree but an *oblivious tree* sometimes also called a *decision table*. The main difference to regular decision trees is that **all** nodes on a given level have to split on the same feature and the same point. This is why oblivious trees are usually longer than standard trees since they need more levels to capture non-linearities. Recently this form of tree structure has has captured attention in the machine learning community and is being used often together with gradient boosting machines; see for example {cite}`yin2017`, {cite}`ferov2016` and {cite}`popov2019`. For a general definition see {cite}`kohavi1995`."
   ]
  },
  {
   "cell_type": "markdown",
   "metadata": {},
   "source": [
    "### Implementation / Application"
   ]
  },
  {
   "cell_type": "code",
   "execution_count": 9,
   "metadata": {
    "execution": {
     "iopub.execute_input": "2020-08-29T11:36:00.977482Z",
     "iopub.status.busy": "2020-08-29T11:36:00.976472Z",
     "iopub.status.idle": "2020-08-29T11:36:29.815692Z",
     "shell.execute_reply": "2020-08-29T11:36:29.815232Z"
    }
   },
   "outputs": [
    {
     "name": "stdout",
     "output_type": "stream",
     "text": [
      "(Catboost) MSE: 5.048105271497743\n"
     ]
    }
   ],
   "source": [
    "gbt = CatBoostRegressor(\n",
    "    iterations=1500,\n",
    "    learning_rate=0.01, \n",
    "    depth=5,\n",
    "    loss_function=\"RMSE\",\n",
    "    random_state=1,\n",
    ")\n",
    "gbt.fit(X_train, y_train, verbose=False)\n",
    "\n",
    "prediction = gbt.predict(X_val)\n",
    "mse_gbt = mean_squared_error(y_val, prediction)\n",
    "print(f\"(Catboost) MSE: {mse_gbt}\")"
   ]
  },
  {
   "cell_type": "markdown",
   "metadata": {},
   "source": [
    "## MSE Comparison"
   ]
  },
  {
   "cell_type": "code",
   "execution_count": 10,
   "metadata": {
    "execution": {
     "iopub.execute_input": "2020-08-29T11:36:29.821285Z",
     "iopub.status.busy": "2020-08-29T11:36:29.820798Z",
     "iopub.status.idle": "2020-08-29T11:36:29.989511Z",
     "shell.execute_reply": "2020-08-29T11:36:29.990154Z"
    }
   },
   "outputs": [
    {
     "data": {
      "image/png": "[encoded data removed]",
      "text/plain": [
       "<Figure size 1152x432 with 1 Axes>"
      ]
     },
     "metadata": {
      "filenames": {
       "image/png": "/home/tim/sciebo/uni-master/topics-econometrics/project/book/_build/jupyter_execute/simulated_final_19_0.png"
      }
     },
     "output_type": "display_data"
    }
   ],
   "source": [
    "models = [\"nnet\", \"lm\", \"rf\", \"catboost\"]\n",
    "mses = [mse_nnet, mse_lm, mse_rf, mse_gbt]\n",
    "data = pd.DataFrame(zip(models, mses), columns=[\"model\", \"mse\"])\n",
    "\n",
    "sns.set_style(\"whitegrid\")\n",
    "plt.ylim(5, 5.5)\n",
    "_ = sns.scatterplot(\n",
    "    x=\"model\", y=\"mse\", data=data, hue=\"model\", s=500, legend=None\n",
    ")"
   ]
  }
 ],
 "metadata": {
  "kernelspec": {
   "display_name": "Python 3",
   "language": "python",
   "name": "python3"
  },
  "language_info": {
   "codemirror_mode": {
    "name": "ipython",
    "version": 3
   },
   "file_extension": ".py",
   "mimetype": "text/x-python",
   "name": "python",
   "nbconvert_exporter": "python",
   "pygments_lexer": "ipython3",
   "version": "3.7.8"
  }
 },
 "nbformat": 4,
 "nbformat_minor": 4
}