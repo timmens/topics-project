{
 "cells": [
  {
   "cell_type": "code",
   "execution_count": 1,
   "metadata": {
    "execution": {
     "iopub.execute_input": "2020-08-27T21:13:08.672860Z",
     "iopub.status.busy": "2020-08-27T21:13:08.670980Z",
     "iopub.status.idle": "2020-08-27T21:13:08.675285Z",
     "shell.execute_reply": "2020-08-27T21:13:08.676435Z"
    }
   },
   "outputs": [],
   "source": [
    "import os\n",
    "\n",
    "from pathlib import Path\n",
    "\n",
    "from IPython.display import display\n",
    "from IPython.display import FileLink\n",
    "\n",
    "ROOT = Path(os.getcwd()).parent"
   ]
  },
  {
   "cell_type": "markdown",
   "metadata": {},
   "source": [
    "# Introduction\n",
    "\n",
    "***Topics in Econometrics and Statistics, University of Bonn, 2020 -- Prof. Joachim Freyberger***\n",
    "\n",
    "In this document I present my submission to the project for the topics class in\n",
    "econometrics and statistics, due by 13th September 2020."
   ]
  },
  {
   "cell_type": "markdown",
   "metadata": {},
   "source": [
    "## Problem Description\n",
    "\n",
    "For the project we have been given a simulated data set and a real data set. For each\n",
    "data set some of the observed outcomes are held back. The task is to build a model for\n",
    "each data set on the training set and submit the predictions on the test set.\n",
    "\n",
    "\n",
    "The following part of this document is structured as follows. At the end of this\n",
    "section I present a link to my predictions for the respective data sets. In the next\n",
    "chapter I present the model for the simulated data set. Aftwards I introduce my model\n",
    "for the stock data set."
   ]
  },
  {
   "cell_type": "markdown",
   "metadata": {},
   "source": [
    "## Data Format\n",
    "\n",
    "Please note that I changed the file format from an RData file to a [parquet](https://parquet.apache.org/) file, as this is not dependent on the specific programming language. If you want to reproduce my results using my code (see below) you need to transform the RData files to parquet files. This can easily be done, for example, with the [SparkR](https://spark.apache.org/docs/1.6.2/api/R/write.parquet.html) package for R. For the project to run I expect the two data files to be located in the folder ``data`` with names ``simulated_data.parquet`` and ``stock_data.parquet``, respectively."
   ]
  },
  {
   "cell_type": "markdown",
   "metadata": {},
   "source": [
    "## Code\n",
    "\n",
    "In this project I have to sets of code bases. Nearly all of the code presented in the following notebooks is embedded in the notebooks themselves. For the final predictions however, I use Python scripts which are stored [here](https://github.com/timmens/topics-project/). The script [build_project.py](https://github.com/timmens/topics-project/tree/main/codes/build_project.py) runs all scripts that are necessary to produce the predictions. If you want to rerun these codes on your computer open your favorite terminal emulator and run the following line by line (I assume you have at least [miniconda](https://docs.conda.io/en/latest/miniconda.html) already installed on your system, otherwise read the note below.)\n",
    "\n",
    "```console\n",
    "$ git clone https://github.com/timmens/topics-project.git\n",
    "$ conda env create -f environment.yml\n",
    "$ conda activate topics-project\n",
    "$ cd codes\n",
    "$ python build_project.py\n",
    "```\n",
    "\n",
    "***Note.***\n",
    "\n",
    "It is not necessary to use conda here as long as all the packages that I use are available to the Python interpreter. Conda just provides a very easy way to create a sandbox environment in which all packages will be available without messing with the system."
   ]
  },
  {
   "cell_type": "markdown",
   "metadata": {},
   "source": [
    "## Predictions\n",
    "\n",
    "Predictions for the respective data sets are stored on github and can be downloaded here"
   ]
  },
  {
   "cell_type": "markdown",
   "metadata": {},
   "source": [
    "- Simulated data: [(click here to download)](https://rawcdn.githack.com/timmens/topics-project/4045ae9fac293ec2aff62d4d9e6f3f8989f768cb/bld/predictions_simulated.csv)\n",
    "- Stock data: [(click here to download)](https://rawcdn.githack.com/timmens/topics-project/4045ae9fac293ec2aff62d4d9e6f3f8989f768cb/bld/predictions_stock.csv)"
   ]
  },
  {
   "cell_type": "markdown",
   "metadata": {},
   "source": [
    "\n",
    "```{toctree}\n",
    ":hidden:\n",
    ":titlesonly:\n",
    "\n",
    "\n",
    "simulated\n",
    "stock\n",
    "```\n"
   ]
  }
 ],
 "metadata": {
  "kernelspec": {
   "display_name": "Python 3",
   "language": "python",
   "name": "python3"
  },
  "language_info": {
   "codemirror_mode": {
    "name": "ipython",
    "version": 3
   },
   "file_extension": ".py",
   "mimetype": "text/x-python",
   "name": "python",
   "nbconvert_exporter": "python",
   "pygments_lexer": "ipython3",
   "version": "3.7.8"
  }
 },
 "nbformat": 4,
 "nbformat_minor": 4
}