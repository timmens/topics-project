{
 "cells": [
  {
   "cell_type": "markdown",
   "metadata": {},
   "source": [
    "# Data Description"
   ]
  },
  {
   "cell_type": "markdown",
   "metadata": {},
   "source": [
    "In the following I will present my model for the stock data set. Before I could fit my final model I had to transform the data. Next I will discuss how I changed the data structure and how I split the data intro training and validation parts."
   ]
  },
  {
   "cell_type": "code",
   "execution_count": 1,
   "metadata": {
    "execution": {
     "iopub.execute_input": "2020-08-28T14:06:42.914987Z",
     "iopub.status.busy": "2020-08-28T14:06:42.913688Z",
     "iopub.status.idle": "2020-08-28T14:06:43.206370Z",
     "shell.execute_reply": "2020-08-28T14:06:43.206840Z"
    }
   },
   "outputs": [],
   "source": [
    "import os\n",
    "from pathlib import Path\n",
    "import pandas as pd\n",
    "\n",
    "ROOT = Path(os.getcwd()).parent"
   ]
  },
  {
   "cell_type": "code",
   "execution_count": 2,
   "metadata": {
    "execution": {
     "iopub.execute_input": "2020-08-28T14:06:43.212070Z",
     "iopub.status.busy": "2020-08-28T14:06:43.211158Z",
     "iopub.status.idle": "2020-08-28T14:06:44.779911Z",
     "shell.execute_reply": "2020-08-28T14:06:44.779178Z"
    }
   },
   "outputs": [
    {
     "data": {
      "text/html": [
       "<div>\n",
       "<style scoped>\n",
       "    .dataframe tbody tr th:only-of-type {\n",
       "        vertical-align: middle;\n",
       "    }\n",
       "\n",
       "    .dataframe tbody tr th {\n",
       "        vertical-align: top;\n",
       "    }\n",
       "\n",
       "    .dataframe thead th {\n",
       "        text-align: right;\n",
       "    }\n",
       "</style>\n",
       "<table border=\"1\" class=\"dataframe\">\n",
       "  <thead>\n",
       "    <tr style=\"text-align: right;\">\n",
       "      <th></th>\n",
       "      <th>date</th>\n",
       "      <th>Y</th>\n",
       "      <th>a2me</th>\n",
       "      <th>aoa</th>\n",
       "      <th>at</th>\n",
       "      <th>at_adj</th>\n",
       "      <th>ato</th>\n",
       "      <th>beme</th>\n",
       "      <th>beme_adj</th>\n",
       "      <th>beta</th>\n",
       "    </tr>\n",
       "  </thead>\n",
       "  <tbody>\n",
       "    <tr>\n",
       "      <th>0</th>\n",
       "      <td>1965-01-31</td>\n",
       "      <td>0.461364</td>\n",
       "      <td>0.513089</td>\n",
       "      <td>0.282723</td>\n",
       "      <td>0.787958</td>\n",
       "      <td>0.319372</td>\n",
       "      <td>0.172775</td>\n",
       "      <td>0.484293</td>\n",
       "      <td>0.609948</td>\n",
       "      <td>0.335079</td>\n",
       "    </tr>\n",
       "    <tr>\n",
       "      <th>1</th>\n",
       "      <td>1965-01-31</td>\n",
       "      <td>0.542868</td>\n",
       "      <td>0.240838</td>\n",
       "      <td>0.774869</td>\n",
       "      <td>0.939791</td>\n",
       "      <td>0.340314</td>\n",
       "      <td>0.183246</td>\n",
       "      <td>0.232984</td>\n",
       "      <td>0.308901</td>\n",
       "      <td>0.526178</td>\n",
       "    </tr>\n",
       "    <tr>\n",
       "      <th>2</th>\n",
       "      <td>1965-01-31</td>\n",
       "      <td>0.249849</td>\n",
       "      <td>0.633508</td>\n",
       "      <td>0.096859</td>\n",
       "      <td>0.222513</td>\n",
       "      <td>0.884817</td>\n",
       "      <td>0.785340</td>\n",
       "      <td>0.774869</td>\n",
       "      <td>0.787958</td>\n",
       "      <td>0.853403</td>\n",
       "    </tr>\n",
       "    <tr>\n",
       "      <th>3</th>\n",
       "      <td>1965-01-31</td>\n",
       "      <td>0.371568</td>\n",
       "      <td>0.439791</td>\n",
       "      <td>0.463351</td>\n",
       "      <td>0.903141</td>\n",
       "      <td>0.434555</td>\n",
       "      <td>0.112565</td>\n",
       "      <td>0.494764</td>\n",
       "      <td>0.643979</td>\n",
       "      <td>0.570681</td>\n",
       "    </tr>\n",
       "    <tr>\n",
       "      <th>4</th>\n",
       "      <td>1965-01-31</td>\n",
       "      <td>-0.177803</td>\n",
       "      <td>0.654450</td>\n",
       "      <td>0.335079</td>\n",
       "      <td>0.704188</td>\n",
       "      <td>0.958115</td>\n",
       "      <td>0.848168</td>\n",
       "      <td>0.549738</td>\n",
       "      <td>0.793194</td>\n",
       "      <td>0.866492</td>\n",
       "    </tr>\n",
       "  </tbody>\n",
       "</table>\n",
       "</div>"
      ],
      "text/plain": [
       "         date         Y      a2me       aoa        at    at_adj       ato  \\\n",
       "0  1965-01-31  0.461364  0.513089  0.282723  0.787958  0.319372  0.172775   \n",
       "1  1965-01-31  0.542868  0.240838  0.774869  0.939791  0.340314  0.183246   \n",
       "2  1965-01-31  0.249849  0.633508  0.096859  0.222513  0.884817  0.785340   \n",
       "3  1965-01-31  0.371568  0.439791  0.463351  0.903141  0.434555  0.112565   \n",
       "4  1965-01-31 -0.177803  0.654450  0.335079  0.704188  0.958115  0.848168   \n",
       "\n",
       "       beme  beme_adj      beta  \n",
       "0  0.484293  0.609948  0.335079  \n",
       "1  0.232984  0.308901  0.526178  \n",
       "2  0.774869  0.787958  0.853403  \n",
       "3  0.494764  0.643979  0.570681  \n",
       "4  0.549738  0.793194  0.866492  "
      ]
     },
     "execution_count": 2,
     "metadata": {},
     "output_type": "execute_result"
    }
   ],
   "source": [
    "df = pd.read_parquet(ROOT / \"data\" / \"stock_data.parquet\")\n",
    "df.iloc[:5, :10]"
   ]
  },
  {
   "cell_type": "markdown",
   "metadata": {},
   "source": [
    "The original data set contains 1_629_155 observations of stock returns including 63 features. One of these features is the date. In comparison to classical panel data, however, the above data does not have a unit index. That is, we cannot know which units move between time periods. Observations are measured from the 01.31.1965 until the 31.05.2014. Again, as in the simulated case, testing observations are given a ``NaN`` in the outcome column. Here the testing observations are all observations starting from the 31.01.2004 until the last observed time period. "
   ]
  },
  {
   "cell_type": "markdown",
   "metadata": {},
   "source": [
    "## Cleaning the Data\n",
    "\n",
    "Before training my models on the data I cleaned it in several ways. First of all I transformed the date column to a year column. I then dropped all observations older than 1990. And at last I dropped all observations which had absolute stock returns greater than 6. The data cleaning script can be found here [clean_data.py](https://github.com/timmens/topics-project/blob/main/codes/clean_data.py)."
   ]
  },
  {
   "cell_type": "markdown",
   "metadata": {},
   "source": [
    "## Train / Validation Split\n",
    "\n",
    "As I did not want to ignore the time dimension for the train / validation split I constructed the respective sets as follows. I grouped the cleaned data set into smaller sets by year. For each year I split the smaller set into 80% training and 20% validation set. Lastly I concatened the smaller sets together to form the final training and validation sets. Using this strategy I can train my model on all time-periods and evaluate the performance on all time-periods. The specific implementation is given in the script [train_test_split.py](https://github.com/timmens/topics-project/blob/main/codes/train_test_split.py)."
   ]
  }
 ],
 "metadata": {
  "kernelspec": {
   "display_name": "Python 3",
   "language": "python",
   "name": "python3"
  },
  "language_info": {
   "codemirror_mode": {
    "name": "ipython",
    "version": 3
   },
   "file_extension": ".py",
   "mimetype": "text/x-python",
   "name": "python",
   "nbconvert_exporter": "python",
   "pygments_lexer": "ipython3",
   "version": "3.7.8"
  }
 },
 "nbformat": 4,
 "nbformat_minor": 4
}